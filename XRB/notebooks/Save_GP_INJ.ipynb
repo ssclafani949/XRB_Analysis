{
 "cells": [
  {
   "cell_type": "code",
   "execution_count": 1,
   "id": "e5cfeb84-9384-4e73-a369-0c5f28f43ba6",
   "metadata": {},
   "outputs": [],
   "source": [
    "#notebook to save the injected trials in an array"
   ]
  },
  {
   "cell_type": "code",
   "execution_count": 2,
   "id": "12bd65f8-1a6f-4101-8e20-839bb81fe0a5",
   "metadata": {},
   "outputs": [],
   "source": [
    "import csky as cy\n",
    "import numpy as np\n",
    "import matplotlib.pyplot as plt\n",
    "import pandas as pd\n",
    "import histlite as hl\n",
    "import copy"
   ]
  },
  {
   "cell_type": "code",
   "execution_count": 3,
   "id": "416921c5-daec-4829-9b5f-cc96535a9638",
   "metadata": {},
   "outputs": [],
   "source": [
    "def load_data(dataset='combo'):\n",
    "    repo = cy.selections.Repository()\n",
    "    cspec = cy.selections.DNNCascadeDataSpecs.DNNC_12yr                             \n",
    "    psspec = cy.selections.PSDataSpecs.ps_v4_15yr[3:]\n",
    "    ana = cy.get_analysis(repo, 'version-004-p03', psspec, 'version-001-p02', cspec)\n",
    "    return ana"
   ]
  },
  {
   "cell_type": "code",
   "execution_count": 4,
   "id": "b243214b-872b-4019-b431-6bbec960147e",
   "metadata": {},
   "outputs": [],
   "source": [
    "def get_gp_conf(ana, template_str, ): \n",
    "        template_repo = cy.selections.Repository(\n",
    "        local_root='/data/ana/analyses/NuSources/2021_DNNCascade_analyses')\n",
    "        if template_str == 'pi0':\n",
    "\n",
    "            # get default gamma\n",
    "            gamma = 2.7\n",
    "\n",
    "            template = template_repo.get_template('Fermi-LAT_pi0_map')\n",
    "            gp_conf = {\n",
    "                'template': template,\n",
    "                'flux': cy.hyp.PowerLawFlux(gamma),\n",
    "                'randomize': ['grl'],\n",
    "                'fitter_args': dict(gamma=gamma),\n",
    "                'sigsub': True,\n",
    "                'update_bg' : True,\n",
    "                'fast_weight' : False,\n",
    "                'extra_keep' : ['energy' , 'mjd'],\n",
    "                'dir' : '/data/user/ssclafani/templates/'\n",
    "                }\n",
    "            return gp_conf     "
   ]
  },
  {
   "cell_type": "code",
   "execution_count": 6,
   "id": "a2303940-0325-4a96-99dc-246c94156101",
   "metadata": {},
   "outputs": [
    {
     "name": "stdout",
     "output_type": "stream",
     "text": [
      "Setting up Analysis for:\n",
      "IC86v4_12yr, DNNCascade_12yr\n",
      "Setting up IC86v4_12yr...\n",
      "Reading /data/ana/analyses/ps_tracks/version-004-p03/IC86_2016_MC.npy ...\n",
      "Reading /data/ana/analyses/ps_tracks/version-004-p03/IC86_2011_exp.npy ...\n",
      "Reading /data/ana/analyses/ps_tracks/version-004-p03/IC86_2012_exp.npy ...\n",
      "Reading /data/ana/analyses/ps_tracks/version-004-p03/IC86_2013_exp.npy ...\n",
      "Reading /data/ana/analyses/ps_tracks/version-004-p03/IC86_2014_exp.npy ...\n",
      "Reading /data/ana/analyses/ps_tracks/version-004-p03/IC86_2015_exp.npy ...\n",
      "Reading /data/ana/analyses/ps_tracks/version-004-p03/IC86_2016_exp.npy ...\n",
      "Reading /data/ana/analyses/ps_tracks/version-004-p03/IC86_2017_exp.npy ...\n",
      "Reading /data/ana/analyses/ps_tracks/version-004-p03/IC86_2018_exp.npy ...\n",
      "Reading /data/ana/analyses/ps_tracks/version-004-p03/IC86_2019_exp.npy ...\n",
      "Reading /data/ana/analyses/ps_tracks/version-004-p03/IC86_2020_exp.npy ...\n",
      "Reading /data/ana/analyses/ps_tracks/version-004-p03/IC86_2021_exp.npy ...\n",
      "Reading /data/ana/analyses/ps_tracks/version-004-p03/IC86_2022_exp.npy ...\n",
      "Reading /data/ana/analyses/ps_tracks/version-004-p03/GRL/IC86_2011_exp.npy ...\n",
      "Reading /data/ana/analyses/ps_tracks/version-004-p03/GRL/IC86_2012_exp.npy ...\n",
      "Reading /data/ana/analyses/ps_tracks/version-004-p03/GRL/IC86_2013_exp.npy ...\n",
      "Reading /data/ana/analyses/ps_tracks/version-004-p03/GRL/IC86_2014_exp.npy ...\n",
      "Reading /data/ana/analyses/ps_tracks/version-004-p03/GRL/IC86_2015_exp.npy ...\n",
      "Reading /data/ana/analyses/ps_tracks/version-004-p03/GRL/IC86_2016_exp.npy ...\n",
      "Reading /data/ana/analyses/ps_tracks/version-004-p03/GRL/IC86_2017_exp.npy ...\n",
      "Reading /data/ana/analyses/ps_tracks/version-004-p03/GRL/IC86_2018_exp.npy ...\n",
      "Reading /data/ana/analyses/ps_tracks/version-004-p03/GRL/IC86_2019_exp.npy ...\n",
      "Reading /data/ana/analyses/ps_tracks/version-004-p03/GRL/IC86_2020_exp.npy ...\n",
      "Reading /data/ana/analyses/ps_tracks/version-004-p03/GRL/IC86_2021_exp.npy ...\n",
      "Reading /data/ana/analyses/ps_tracks/version-004-p03/GRL/IC86_2022_exp.npy ...\n",
      "Energy PDF Ratio Model...\n",
      "  * gamma = 4.0000 ...\n",
      "Signal Acceptance Model...\n",
      "  * gamma = 4.0000 ...\n",
      "not applying any masking\n",
      "Setting up DNNCascade_12yr...\n",
      "Reading /data/ana/analyses/dnn_cascades/version-001-p02/MC_NuGen_bfrv1_2153x.npy ...\n",
      "Reading /data/ana/analyses/dnn_cascades/version-001-p02/IC86_2011_exp.npy ...\n",
      "Reading /data/ana/analyses/dnn_cascades/version-001-p02/IC86_2012_exp.npy ...\n",
      "Reading /data/ana/analyses/dnn_cascades/version-001-p02/IC86_2013_exp.npy ...\n",
      "Reading /data/ana/analyses/dnn_cascades/version-001-p02/IC86_2014_exp.npy ...\n",
      "Reading /data/ana/analyses/dnn_cascades/version-001-p02/IC86_2015_exp.npy ...\n",
      "Reading /data/ana/analyses/dnn_cascades/version-001-p02/IC86_2016_exp.npy ...\n",
      "Reading /data/ana/analyses/dnn_cascades/version-001-p02/IC86_2017_exp.npy ...\n",
      "Reading /data/ana/analyses/dnn_cascades/version-001-p02/IC86_2018_exp.npy ...\n",
      "Reading /data/ana/analyses/dnn_cascades/version-001-p02/IC86_2019_exp.npy ...\n",
      "Reading /data/ana/analyses/dnn_cascades/version-001-p02/IC86_2020_exp.npy ...\n",
      "Reading /data/ana/analyses/dnn_cascades/version-001-p02/IC86_2021_exp.npy ...\n",
      "Reading /data/ana/analyses/dnn_cascades/version-001-p02/IC86_2022_exp.npy ...\n",
      "Reading /data/ana/analyses/dnn_cascades/version-001-p02/GRL/IC86_2011_exp.npy ...\n",
      "Reading /data/ana/analyses/dnn_cascades/version-001-p02/GRL/IC86_2012_exp.npy ...\n",
      "Reading /data/ana/analyses/dnn_cascades/version-001-p02/GRL/IC86_2013_exp.npy ...\n",
      "Reading /data/ana/analyses/dnn_cascades/version-001-p02/GRL/IC86_2014_exp.npy ...\n",
      "Reading /data/ana/analyses/dnn_cascades/version-001-p02/GRL/IC86_2015_exp.npy ...\n",
      "Reading /data/ana/analyses/dnn_cascades/version-001-p02/GRL/IC86_2016_exp.npy ...\n",
      "Reading /data/ana/analyses/dnn_cascades/version-001-p02/GRL/IC86_2017_exp.npy ...\n",
      "Reading /data/ana/analyses/dnn_cascades/version-001-p02/GRL/IC86_2018_exp.npy ...\n",
      "Reading /data/ana/analyses/dnn_cascades/version-001-p02/GRL/IC86_2019_exp.npy ...\n",
      "Reading /data/ana/analyses/dnn_cascades/version-001-p02/GRL/IC86_2020_exp.npy ...\n",
      "Reading /data/ana/analyses/dnn_cascades/version-001-p02/GRL/IC86_2021_exp.npy ...\n",
      "Reading /data/ana/analyses/dnn_cascades/version-001-p02/GRL/IC86_2022_exp.npy ...\n",
      "Energy PDF Ratio Model...\n",
      "  * gamma = 4.0000 ...\n",
      "Signal Acceptance Model...\n",
      "  * gamma = 4.0000 ...\n",
      "not applying any masking\n",
      "Done.\n"
     ]
    }
   ],
   "source": [
    "ana = load_data()\n"
   ]
  },
  {
   "cell_type": "code",
   "execution_count": 7,
   "id": "3790b588-8e86-401f-96b3-caadeb245f5f",
   "metadata": {},
   "outputs": [
    {
     "name": "stdout",
     "output_type": "stream",
     "text": [
      "Reading /data/ana/analyses/NuSources/2021_DNNCascade_analyses/templates/Fermi-LAT_pi0_map.npy ...\n",
      "<- /data/user/ssclafani/templates//IC86v4_12yr.template.npy    \n",
      "Restore successful.\n",
      "<- /data/user/ssclafani/templates//DNNCascade_12yr.template.npy    \n",
      "Restore successful.\n"
     ]
    }
   ],
   "source": [
    "gp_conf = get_gp_conf(ana, 'pi0')\n",
    "gp_tr = cy.get_trial_runner(ana=ana, conf=gp_conf)"
   ]
  },
  {
   "cell_type": "code",
   "execution_count": 15,
   "id": "5cec8671-f4ad-4c74-aa01-f79844748869",
   "metadata": {},
   "outputs": [
    {
     "data": {
      "text/plain": [
       "2012.2529763198404"
      ]
     },
     "execution_count": 15,
     "metadata": {},
     "output_type": "execute_result"
    }
   ],
   "source": [
    "#galactic plane paper flux to ns for this dataset\n",
    "\n",
    "flux_E2dNdE_at_100TeV = 21.8e-12 #TeV/s/cm^2\n",
    "gp_tr.to_ns(flux_E2dNdE_at_100TeV, flux=cy.hyp.PowerLawFlux(2.7), E0=100, unit=1e3)"
   ]
  },
  {
   "cell_type": "code",
   "execution_count": 17,
   "id": "e6ccf6d5-8dff-48df-908c-027170f2c5da",
   "metadata": {},
   "outputs": [
    {
     "name": "stdout",
     "output_type": "stream",
     "text": [
      "400"
     ]
    }
   ],
   "source": [
    "ts = []\n",
    "cs = []\n",
    "for i in range(5000):\n",
    "    if i % 100 == 0:\n",
    "        print(i, end='\\r')\n",
    "    t = gp_tr.get_one_trial(n_sig = 2012, seed = i) \n",
    "    ts.append(t[0][0][1].as_array)\n",
    "    cs.append(t[0][1][1].as_array)"
   ]
  },
  {
   "cell_type": "code",
   "execution_count": 18,
   "id": "1853ac07-abd0-4973-b96a-53a85dc0c163",
   "metadata": {},
   "outputs": [],
   "source": [
    "ts_dict = {f'seed_{i}' : ts[i] for i in range(len(ts))}\n",
    "cs_dict = {f'seed_{i}' : cs[i] for i in range(len(cs))}"
   ]
  },
  {
   "cell_type": "code",
   "execution_count": null,
   "id": "d88e8357-4ca3-40f7-bcdb-f91f5b897cd9",
   "metadata": {},
   "outputs": [],
   "source": [
    "np.save('/data/user/ssclafani/GP_injected_trials/trial_tracks_IC86.npy', ts_dict)\n",
    "np.save('/data/user/ssclafani/GP_injected_trials/trial_cascades_IC86.npy', cs_dict)"
   ]
  }
 ],
 "metadata": {
  "kernelspec": {
   "display_name": "Python 3 (ipykernel)",
   "language": "python",
   "name": "python3"
  },
  "language_info": {
   "codemirror_mode": {
    "name": "ipython",
    "version": 3
   },
   "file_extension": ".py",
   "mimetype": "text/x-python",
   "name": "python",
   "nbconvert_exporter": "python",
   "pygments_lexer": "ipython3",
   "version": "3.11.3"
  }
 },
 "nbformat": 4,
 "nbformat_minor": 5
}
